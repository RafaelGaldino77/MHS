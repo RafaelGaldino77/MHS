{
  "nbformat": 4,
  "nbformat_minor": 0,
  "metadata": {
    "colab": {
      "name": "Instruções - Comparação de Oscilações MHS.ipynb",
      "provenance": [],
      "collapsed_sections": [],
      "authorship_tag": "ABX9TyOW4++2nnrfLckH0MAT6Eom"
    },
    "kernelspec": {
      "display_name": "Python 3",
      "name": "python3"
    },
    "language_info": {
      "name": "python"
    }
  },
  "cells": [
    {
      "cell_type": "markdown",
      "source": [
        "Centro Universitário FEI - Física II\n",
        "\n",
        "Criado por Rafael Galdino Dias em 25/10/2021\n",
        "\n",
        "Esse programa tem como principal objetivo auxiliar os alunos em seus estudos de\n",
        "Movimento Harmônico Simples através da comparação de duas ondas sobrepostas sob\n",
        "o mesmo gráfico para que o aluno possa visualizar e analisar como os parâmetros\n",
        "estudados podem interferir e caracterizar o MHS nas mais diversas situações. \n",
        "\n",
        "Observação: para simular este programa, copie e cole todas as linhas de código\n",
        "no Google Colab, onde ele foi testado e desenvolvido pelo autor."
      ],
      "metadata": {
        "id": "yRZ9QQSHJ5lI"
      }
    },
    {
      "cell_type": "code",
      "source": [
        "import numpy as np\n",
        "import matplotlib.pyplot as plt\n",
        "\n",
        "print('         Entre com os dados da 1a simulação           ')\n",
        "print('------------------------------------------------------')\n",
        "m1=float(input(\"Insira o valor da massa em kg:\"))\n",
        "k1=float(input(\"Insira o valor da constante elástica em N/m:\"))\n",
        "xo1=float(input(\"Insira a posição inicial em m:\"))\n",
        "vo1=float(input(\"Insira a velocidade inicial em m/s:\"))\n",
        "print('------------------------------------------------------')\n",
        "print('         Entre com os dados da 2a simulação           ')\n",
        "print('------------------------------------------------------')\n",
        "m2=float(input(\"Insira o valor da massa em kg:\"))\n",
        "k2=float(input(\"Insira o valor da constante elástica em N/m:\"))\n",
        "xo2=float(input(\"Insira a posição inicial em m:\"))\n",
        "vo2=float(input(\"Insira a velocidade inicial em m/s:\"))\n",
        "print('------------------------------------------------------')"
      ],
      "metadata": {
        "id": "kHKN_lMXKAwN"
      },
      "execution_count": null,
      "outputs": []
    },
    {
      "cell_type": "markdown",
      "source": [
        "Condição colocada para que a posição inicial seja diferente de zero pois não há\n",
        "como realizar os cálculos para o valor de xo1=0."
      ],
      "metadata": {
        "id": "i_0Aygpcn2IG"
      }
    },
    {
      "cell_type": "code",
      "source": [
        "if xo1==0:\n",
        "  xo1=0.001\n",
        "if xo2==0:\n",
        "  xo2=0.001"
      ],
      "metadata": {
        "id": "WAupuo-On9AU"
      },
      "execution_count": null,
      "outputs": []
    },
    {
      "cell_type": "markdown",
      "source": [
        "Cálculo da frequência angular (omega) para a 1a simulação"
      ],
      "metadata": {
        "id": "72b4Rgh9KE3B"
      }
    },
    {
      "cell_type": "code",
      "source": [
        "w1=(k1/m1)**0.5"
      ],
      "metadata": {
        "id": "A14MFDR2KH09"
      },
      "execution_count": null,
      "outputs": []
    },
    {
      "cell_type": "markdown",
      "source": [
        "Cálculo do ângulo de fase do MHS utilizando os valores de posição e velocidade\n",
        "iniciais através da dedução de que a fase inicial pode ser obtida pela equação \n",
        "horária do MHS quando t=0. Para chegar ao resultado podemos pegar a velocidade \n",
        "inicial v0=-w.A.sen(fi) e dividir pela posição inicial x0=A.cos(fi) resultando\n",
        "na equação obtida abaixo."
      ],
      "metadata": {
        "id": "tdkHiOClKKE5"
      }
    },
    {
      "cell_type": "code",
      "source": [
        "fi1=np.arctan(-vo1/(w1*xo1))"
      ],
      "metadata": {
        "id": "wiwEd5ILKOk_"
      },
      "execution_count": null,
      "outputs": []
    },
    {
      "cell_type": "markdown",
      "source": [
        "Cálculo da amplitude utilizando os valores de posição e velocidade iniciais com\n",
        "a seguinte dedução: eleve a equação do x0 ao quadrado então divida a equação do\n",
        "v0 por w(omega) e eleve o resultado ao quadrado e por fim some com a quadrado \n",
        "da equação anterior. O resultado é A^2(sen^2(fi)+cos^2(fi))=A^2, fazendo-se as\n",
        "devidas manipulações e substituições é possível chegar na equação abaixo."
      ],
      "metadata": {
        "id": "3IorKHwtKRru"
      }
    },
    {
      "cell_type": "code",
      "source": [
        "Ao1=(xo1**2+(vo1**2/w1**2))**0.5"
      ],
      "metadata": {
        "id": "C_XZ3XZHKWB3"
      },
      "execution_count": null,
      "outputs": []
    },
    {
      "cell_type": "markdown",
      "source": [
        "Transformação do ângulo de radianos para graus e cálculo do seu cosseno para a \n",
        "utilização dos valores na plotagem do gráfico."
      ],
      "metadata": {
        "id": "ScXuoSFjKYZX"
      }
    },
    {
      "cell_type": "code",
      "source": [
        "deg1=fi1*180/np.pi\n",
        "cosdeg1=np.cos(deg1)"
      ],
      "metadata": {
        "id": "5gDFBR19Kbti"
      },
      "execution_count": null,
      "outputs": []
    },
    {
      "cell_type": "markdown",
      "source": [
        "Esta condição foi implementada para que os valores negativos da posição inicial\n",
        "possam ser interpretados e corretamente aplicados no gráfico, já que no cálculo\n",
        "do cosseno na equação horária do MHS o ângulo só varia entre os valores 0 e 1."
      ],
      "metadata": {
        "id": "ai-Vly5MKd6B"
      }
    },
    {
      "cell_type": "code",
      "source": [
        "if xo1<0:\n",
        "  fi1=210.5"
      ],
      "metadata": {
        "id": "aYgeH_8UKiZD"
      },
      "execution_count": null,
      "outputs": []
    },
    {
      "cell_type": "markdown",
      "source": [
        "Cálculo da frequência angular (omega) para a 2a simulação"
      ],
      "metadata": {
        "id": "_ijHvcNYKk1J"
      }
    },
    {
      "cell_type": "code",
      "source": [
        "w2=(k2/m2)**0.5"
      ],
      "metadata": {
        "id": "dkDkkw37KoH0"
      },
      "execution_count": null,
      "outputs": []
    },
    {
      "cell_type": "markdown",
      "source": [
        "Cálculo do ângulo de fase do MHS utilizando os valores de posição e velocidade\n",
        "iniciais através da dedução de que a fase inicial pode ser obtida pela equação \n",
        "horária do MHS quando t=0. Para chegar ao resultado podemos pegar a velocidade \n",
        "inicial v0=-w.A.sen(fi) e dividir pela posição inicial x0=A.cos(fi) resultando\n",
        "na equação obtida abaixo."
      ],
      "metadata": {
        "id": "VNjsCHhlKrjh"
      }
    },
    {
      "cell_type": "code",
      "source": [
        "fi2=np.arctan(-vo2/(w2*xo2))"
      ],
      "metadata": {
        "id": "oGo_pCVsKv3T"
      },
      "execution_count": null,
      "outputs": []
    },
    {
      "cell_type": "markdown",
      "source": [
        "Cálculo da amplitude utilizando os valores de posição e velocidade iniciais com\n",
        "a seguinte dedução: eleve a equação do x0 ao quadrado então divida a equação do\n",
        "v0 por w(omega) e eleve o resultado ao quadrado e por fim some com a quadrado \n",
        "da equação anterior. O resultado é A^2(sen^2(fi)+cos^2(fi))=A^2, fazendo-se as\n",
        "devidas manipulações e substituições é possível chegar na equação abaixo."
      ],
      "metadata": {
        "id": "mXCMyQUzKyen"
      }
    },
    {
      "cell_type": "code",
      "source": [
        "Ao2=(xo2**2+(vo2**2/w2**2))**0.5"
      ],
      "metadata": {
        "id": "jGbWyFF1K2x5"
      },
      "execution_count": null,
      "outputs": []
    },
    {
      "cell_type": "markdown",
      "source": [
        "Transformação do ângulo de radianos para graus e cálculo do seu cosseno para a \n",
        "utilização dos valores na plotagem do gráfico."
      ],
      "metadata": {
        "id": "NrDKS_MCK5yv"
      }
    },
    {
      "cell_type": "code",
      "source": [
        "deg2=fi2*180/np.pi\n",
        "cosdeg2=np.cos(deg2)"
      ],
      "metadata": {
        "id": "nEJY7bp6K9b0"
      },
      "execution_count": null,
      "outputs": []
    },
    {
      "cell_type": "markdown",
      "source": [
        "Esta condição foi implementada para que os valores negativos da posição inicial\n",
        "possam ser interpretados e corretamente aplicados no gráfico, já que no cálculo\n",
        "do cosseno na equação horária do MHS o ângulo só varia entre os valores 0 e 1."
      ],
      "metadata": {
        "id": "lEL1SckTLCxa"
      }
    },
    {
      "cell_type": "code",
      "source": [
        "if xo2<0:\n",
        "  fi2=210.5"
      ],
      "metadata": {
        "id": "6o4VzifYLGhg"
      },
      "execution_count": null,
      "outputs": []
    },
    {
      "cell_type": "markdown",
      "source": [
        "Função que calcula a equação da posição em função do tempo para a 1a simulação"
      ],
      "metadata": {
        "id": "dIQyvstMLJpr"
      }
    },
    {
      "cell_type": "code",
      "source": [
        "def x1(t):\n",
        "    return Ao1*np.cos(w1*t+fi1)"
      ],
      "metadata": {
        "id": "DnN0fdfkLM3o"
      },
      "execution_count": null,
      "outputs": []
    },
    {
      "cell_type": "markdown",
      "source": [
        "Função que calcula a equação da posição em função do tempo para a 2a simulação"
      ],
      "metadata": {
        "id": "EhFwlpRsLO7L"
      }
    },
    {
      "cell_type": "code",
      "source": [
        "def x2(t):\n",
        "    return Ao2*np.cos(w2*t+fi2)"
      ],
      "metadata": {
        "id": "M8FyMIAmLSEK"
      },
      "execution_count": null,
      "outputs": []
    },
    {
      "cell_type": "markdown",
      "source": [
        "Aqui você pode definir a escala do eixo horizontal do gráfico. Dentro dos \n",
        "parentêses o primeiro valor é o início da sua escala e o segundo valor é o fim\n",
        "dela. O terceiro valor é o número de pontos usados para plotar a função."
      ],
      "metadata": {
        "id": "6ajgVoNrLW0w"
      }
    },
    {
      "cell_type": "code",
      "source": [
        "t=np.linspace(0,10,200)"
      ],
      "metadata": {
        "id": "GrjgGkZWLZOy"
      },
      "execution_count": null,
      "outputs": []
    },
    {
      "cell_type": "markdown",
      "source": [
        "Aqui você pode definir os parâmetros de plotagem do gráfico e ajustar estilos \n",
        "de linha diferentes para a função. Dentro dos parentêses o primeiro valor é a \n",
        "definição do eixo x do gráfico e o segundo valor é o eixo y dele. O terceiro e \n",
        "o quarto valor são referentes à cor da linha e sua espessura, respectivamente.\n",
        "O quinto item diz respeito à aplicação da legenda do gráfico onde se encontram \n",
        "as informações da massa, constante elástica e ângulo de fase da 1a simulação."
      ],
      "metadata": {
        "id": "xujHF91_LcEF"
      }
    },
    {
      "cell_type": "code",
      "source": [
        "plt.plot(t,x1(t),color='red',linewidth=1.5,label='m=%.1fkg, k=%.1fN/m, f=%.1frad' %(m1,k1,cosdeg1))"
      ],
      "metadata": {
        "id": "qwM3ySBwLin_"
      },
      "execution_count": null,
      "outputs": []
    },
    {
      "cell_type": "markdown",
      "source": [
        "Aqui você pode definir os parâmetros de plotagem do gráfico e ajustar estilos \n",
        "de linha diferentes para a função. Dentro dos parentêses o primeiro valor é a \n",
        "definição do eixo x do gráfico e o segundo valor é o eixo y dele. O terceiro e \n",
        "o quarto valor são referentes à cor da linha e sua espessura, respectivamente.\n",
        "O quinto item diz respeito à aplicação da legenda do gráfico onde se encontram \n",
        "as informações da massa, constante elástica e ângulo de fase da 2a simulação."
      ],
      "metadata": {
        "id": "Lx07UKxmLlKE"
      }
    },
    {
      "cell_type": "code",
      "source": [
        "plt.plot(t,x2(t),color='blue',linewidth=1.5,label='m=%.1fkg, k=%.1fN/m, f=%.1frad' %(m2,k2, cosdeg2))"
      ],
      "metadata": {
        "id": "buaFM0jULpw_"
      },
      "execution_count": null,
      "outputs": []
    },
    {
      "cell_type": "markdown",
      "source": [
        "Aqui você pode alterar o nome do eixo horizontal do gráfico"
      ],
      "metadata": {
        "id": "i1px8xYaLsiR"
      }
    },
    {
      "cell_type": "code",
      "source": [
        "plt.xlabel('t (s)')"
      ],
      "metadata": {
        "id": "B6f5FLL7LvqQ"
      },
      "execution_count": null,
      "outputs": []
    },
    {
      "cell_type": "markdown",
      "source": [
        "Aqui você pode alterar o nome do eixo vertical do gráfico"
      ],
      "metadata": {
        "id": "-EtmH5VoLxpQ"
      }
    },
    {
      "cell_type": "code",
      "source": [
        "plt.ylabel('x (m)')"
      ],
      "metadata": {
        "id": "_fCMNjxgL09i"
      },
      "execution_count": null,
      "outputs": []
    },
    {
      "cell_type": "markdown",
      "source": [
        "Aqui você pode alterar o título do gráfico"
      ],
      "metadata": {
        "id": "vzASAzlNL3pE"
      }
    },
    {
      "cell_type": "code",
      "source": [
        "plt.title('Gráfico Posição x Tempo')"
      ],
      "metadata": {
        "id": "VLjV1q1zL7hP"
      },
      "execution_count": null,
      "outputs": []
    },
    {
      "cell_type": "markdown",
      "source": [
        "Aqui você pode definir a visualização da legenda do gráfico e ajustá-la para a\n",
        "posição que você desejar. Para ver outras opções de posicionamento procure na \n",
        "internet por pyplot.legend"
      ],
      "metadata": {
        "id": "MEIE7B8PL-DY"
      }
    },
    {
      "cell_type": "code",
      "source": [
        "plt.legend(loc=4)"
      ],
      "metadata": {
        "id": "bHAsGl6wMBu_"
      },
      "execution_count": null,
      "outputs": []
    },
    {
      "cell_type": "markdown",
      "source": [
        "Aqui você pode desativar o grid do gráfico digitando False no lugar de True"
      ],
      "metadata": {
        "id": "JbGlpqwXMD5t"
      }
    },
    {
      "cell_type": "code",
      "source": [
        "plt.grid(True)"
      ],
      "metadata": {
        "id": "BxVZ0nbEMHcf"
      },
      "execution_count": null,
      "outputs": []
    },
    {
      "cell_type": "markdown",
      "source": [
        "Plotagem definitiva do gráfico"
      ],
      "metadata": {
        "id": "E0QGcpxwMJcZ"
      }
    },
    {
      "cell_type": "code",
      "source": [
        "plt.show() "
      ],
      "metadata": {
        "id": "m65lB66fML_C"
      },
      "execution_count": null,
      "outputs": []
    },
    {
      "cell_type": "markdown",
      "source": [
        "O conjunto de linhas a seguir é correspondente ao cálculo da posição utilizando\n",
        "um instante de tempo específico e é valido para ambas as simulações. \n",
        "\n",
        "Comando que cria um loop para que o aluno possa inserir um número ilimitado de\n",
        "condições e coletar a quantidade de dados que desejar atráves da repetição e \n",
        "inserção de um novo instante. Para encerrar o processo basta digitar um número\n",
        "negativo na sua tentativa pois não podem ser calculados valores de posição para instantes negativos."
      ],
      "metadata": {
        "id": "tQ-InyD-MpYt"
      }
    },
    {
      "cell_type": "code",
      "source": [
        "while True:\n",
        "  instante=float(input('Entre com o instante de tempo para obter a posição:'))"
      ],
      "metadata": {
        "id": "lEjRgBDyMvr8"
      },
      "execution_count": null,
      "outputs": []
    },
    {
      "cell_type": "markdown",
      "source": [
        "Cálculo da posição para o instante indicado na 1a simulação"
      ],
      "metadata": {
        "id": "1sKUfUUwMzhX"
      }
    },
    {
      "cell_type": "code",
      "source": [
        "result1=Ao1*np.cos(w1*instante+fi1)"
      ],
      "metadata": {
        "id": "FOheK2yfM2AN"
      },
      "execution_count": null,
      "outputs": []
    },
    {
      "cell_type": "markdown",
      "source": [
        "Cálculo da posição para o instante indicado na 2a simulação"
      ],
      "metadata": {
        "id": "RmUzz7D2M5AD"
      }
    },
    {
      "cell_type": "code",
      "source": [
        "result2=Ao2*np.cos(w2*instante+fi2)"
      ],
      "metadata": {
        "id": "pbchHmzUM8pB"
      },
      "execution_count": null,
      "outputs": []
    },
    {
      "cell_type": "markdown",
      "source": [
        "Exibição dos resultados da posição para o instante escolhido"
      ],
      "metadata": {
        "id": "Et8bT779NXfU"
      }
    },
    {
      "cell_type": "code",
      "source": [
        "print('Posição da 1a onda no instante indicado: %.2fm' %result1)\n",
        "print('Posição da 2a onda no instante indicado: %.2fm' %result2)"
      ],
      "metadata": {
        "id": "CLFcAK-JNZFz"
      },
      "execution_count": null,
      "outputs": []
    },
    {
      "cell_type": "markdown",
      "source": [
        "Condição que verifica se o instante digitado é um número negativo, caso seja,\n",
        "o processo do loop é interrompido."
      ],
      "metadata": {
        "id": "gD7J1HsoNeyj"
      }
    },
    {
      "cell_type": "code",
      "source": [
        "if instante<0:\n",
        "   break\n",
        "print('A simulação foi interrompida!')"
      ],
      "metadata": {
        "id": "KyROQc4aNiE9"
      },
      "execution_count": null,
      "outputs": []
    }
  ]
}