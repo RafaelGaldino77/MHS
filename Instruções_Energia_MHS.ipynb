{
  "nbformat": 4,
  "nbformat_minor": 0,
  "metadata": {
    "colab": {
      "name": "Instruções_Energia_MHS.ipynb",
      "provenance": [],
      "collapsed_sections": [],
      "authorship_tag": "ABX9TyOJPyh2wdfIOt9hWV2QnPVo"
    },
    "kernelspec": {
      "name": "python3",
      "display_name": "Python 3"
    },
    "language_info": {
      "name": "python"
    }
  },
  "cells": [
    {
      "cell_type": "markdown",
      "source": [
        "Centro Universitário FEI - Física II\n",
        "\n",
        "Criado por Rafael Galdino Dias em 25/10/2021\n",
        "\n",
        "Esse programa tem como principal objetivo auxiliar os alunos em seus estudos de\n",
        "Movimento Harmônico Simples e ajudá-los a entender como funciona a distribuição\n",
        "e a conservação da energia desse sistema. \n",
        "\n",
        "Observação: para simular este programa, copie e cole todas as linhas de código\n",
        "no Google Colab, onde ele foi testado e desenvolvido pelo autor.\n"
      ],
      "metadata": {
        "id": "K8pJ53KlW9TA"
      }
    },
    {
      "cell_type": "code",
      "source": [
        "import numpy as np\n",
        "import matplotlib.pyplot as plt\n",
        "\n",
        "print('    Energia Cinética, Potencial e Mecânica no MHS     ')\n",
        "print('------------------------------------------------------')\n",
        "m=float(input(\"Insira o valor da massa em kg:\"))\n",
        "k=float(input(\"Insira o valor da constante elástica em N/m:\"))\n",
        "fi=float(input(\"Insira a fase inicial em rad:\"))"
      ],
      "metadata": {
        "id": "61N071ExXB04"
      },
      "execution_count": null,
      "outputs": []
    },
    {
      "cell_type": "markdown",
      "source": [
        "Cálculo da frequência angular (omega) "
      ],
      "metadata": {
        "id": "-WjLmLvvXD88"
      }
    },
    {
      "cell_type": "code",
      "source": [
        "w=(k/m)**0.5"
      ],
      "metadata": {
        "id": "rbPCePxhXF6D"
      },
      "execution_count": null,
      "outputs": []
    },
    {
      "cell_type": "markdown",
      "source": [
        "Cálculo do ângulo de fase do MHS utilizando os valores de posição e velocidade\n",
        "iniciais através da dedução de que a fase inicial pode ser obtida pela equação \n",
        "horária do MHS quando t=0. Para chegar ao resultado podemos pegar a velocidade \n",
        "inicial v0=-w.A.sen(fi) e dividir pela posição inicial x0=A.cos(fi) resultando\n",
        "na equação obtida abaixo."
      ],
      "metadata": {
        "id": "SbkS5RTkspZ5"
      }
    },
    {
      "cell_type": "code",
      "source": [
        "fi=np.arctan(-vo/(w*xo))"
      ],
      "metadata": {
        "id": "QWYAGwUmsubT"
      },
      "execution_count": null,
      "outputs": []
    },
    {
      "cell_type": "markdown",
      "source": [
        "Cálculo da amplitude utilizando os valores de posição e velocidade iniciais com\n",
        "a seguinte dedução: eleve a equação do x0 ao quadrado então divida a equação do\n",
        "v0 por w(omega) e eleve o resultado ao quadrado e por fim some com a quadrado \n",
        "da equação anterior. O resultado é A^2(sen^2(fi)+cos^2(fi))=A^2, fazendo-se as\n",
        "devidas manipulações e substituições é possível chegar na equação abaixo."
      ],
      "metadata": {
        "id": "C7kHA-NmswBD"
      }
    },
    {
      "cell_type": "code",
      "source": [
        "Ao=(xo**2+(vo**2/w**2))**0.5"
      ],
      "metadata": {
        "id": "0KD0z-YVsz_W"
      },
      "execution_count": null,
      "outputs": []
    },
    {
      "cell_type": "markdown",
      "source": [
        "Funções que calculam a posição em função do tempo (equação da posição) "
      ],
      "metadata": {
        "id": "Lb_g7gC9XcHl"
      }
    },
    {
      "cell_type": "code",
      "source": [
        "def x(t):\n",
        "    return Ao*np.cos(w*t+fi)  \n",
        "def v(t):\n",
        "    return -w*Ao*np.sin(w*t+fi)"
      ],
      "metadata": {
        "id": "LUYeI-7eXkHb"
      },
      "execution_count": null,
      "outputs": []
    },
    {
      "cell_type": "markdown",
      "source": [
        "Função que calcula a energia potencial com base no sistema massa-mola"
      ],
      "metadata": {
        "id": "OMAs-XtPXoSJ"
      }
    },
    {
      "cell_type": "code",
      "source": [
        "def ep(t):\n",
        "    return 1/2*k*x(t)**2"
      ],
      "metadata": {
        "id": "AxRFCRzqXq3b"
      },
      "execution_count": null,
      "outputs": []
    },
    {
      "cell_type": "markdown",
      "source": [
        "Função que calcula a energia cinética com base no sistema massa-mola"
      ],
      "metadata": {
        "id": "EbP8nr0wXsy5"
      }
    },
    {
      "cell_type": "code",
      "source": [
        "def ec(t):\n",
        "    return 1/2*m*v(t)**2"
      ],
      "metadata": {
        "id": "Oddr0vBMXvM1"
      },
      "execution_count": null,
      "outputs": []
    },
    {
      "cell_type": "markdown",
      "source": [
        "O conjunto de linhas a seguir é correspondente à plotagem do gráfico da energia\n",
        "em função do tempo. Para alterar os parâmetros siga as instruções:\n",
        "\n",
        "Aqui você pode definir a escala do eixo horizontal do gráfico. Dentro dos \n",
        "parentêses o primeiro valor é o início da sua escala e o segundo valor é o fim\n",
        "dela. O terceiro valor é o número de pontos usados para plotar a função."
      ],
      "metadata": {
        "id": "p582zHe3Xxk5"
      }
    },
    {
      "cell_type": "code",
      "source": [
        "t=np.linspace(0,4,200)"
      ],
      "metadata": {
        "id": "JRIZXZ7zX11c"
      },
      "execution_count": null,
      "outputs": []
    },
    {
      "cell_type": "markdown",
      "source": [
        "Aqui você pode definir os parâmetros de plotagem do gráfico e ajustar estilos \n",
        "de linha diferentes para a função. Dentro dos parentêses o primeiro valor é a \n",
        "definição do eixo x do gráfico e o segundo valor é o eixo y dele. O terceiro e \n",
        "o quarto valor são referentes à cor da linha e sua espessura, respectivamente.\n",
        "O quinto item diz respeito à aplicação da legenda do gráfico onde se encontram \n",
        "as informações para identificação da energia potencial e cinética."
      ],
      "metadata": {
        "id": "hZ8dHDxfX5Uc"
      }
    },
    {
      "cell_type": "code",
      "source": [
        "plt.plot(t,ep(t),color='darkblue',linewidth=1.5,label='Energia Potencial')\n",
        "plt.plot(t,ec(t),color='lightgreen',linewidth=1.5,label='Energia Cinética')"
      ],
      "metadata": {
        "id": "pFo9H2U4X9QL"
      },
      "execution_count": null,
      "outputs": []
    },
    {
      "cell_type": "markdown",
      "source": [
        "Aqui você pode alterar o nome do eixo horizontal do gráfico"
      ],
      "metadata": {
        "id": "PBKJDnsyYBip"
      }
    },
    {
      "cell_type": "code",
      "source": [
        "plt.xlabel('t (s)')"
      ],
      "metadata": {
        "id": "8IfiI9R5YEEY"
      },
      "execution_count": null,
      "outputs": []
    },
    {
      "cell_type": "markdown",
      "source": [
        "Aqui você pode alterar o nome do eixo vertical do gráfico"
      ],
      "metadata": {
        "id": "_VzczXMbYF4F"
      }
    },
    {
      "cell_type": "code",
      "source": [
        "plt.ylabel('E (J)')"
      ],
      "metadata": {
        "id": "5pmj07a9YQ8d"
      },
      "execution_count": null,
      "outputs": []
    },
    {
      "cell_type": "markdown",
      "source": [
        "Aqui você pode alterar o título do gráfico"
      ],
      "metadata": {
        "id": "meFwvxYDYTJ0"
      }
    },
    {
      "cell_type": "code",
      "source": [
        "plt.title('Energia Cinética/Potencial x Tempo')"
      ],
      "metadata": {
        "id": "E9xOdSdrYYaI"
      },
      "execution_count": null,
      "outputs": []
    },
    {
      "cell_type": "markdown",
      "source": [
        "Aqui você pode definir a visualização da legenda do gráfico e ajustá-la para a\n",
        "posição que você desejar. Para ver outras opções de posicionamento procure na \n",
        "internet por pyplot.legend"
      ],
      "metadata": {
        "id": "-Gv-k1LgYijf"
      }
    },
    {
      "cell_type": "code",
      "source": [
        "plt.legend(loc=1)"
      ],
      "metadata": {
        "id": "4yNgSKYKYmo4"
      },
      "execution_count": null,
      "outputs": []
    },
    {
      "cell_type": "markdown",
      "source": [
        "Aqui você pode desativar o grid do gráfico digitando False no lugar de True"
      ],
      "metadata": {
        "id": "AmOjODF9YowZ"
      }
    },
    {
      "cell_type": "code",
      "source": [
        "plt.grid(True)"
      ],
      "metadata": {
        "id": "ivHgDORkYsK7"
      },
      "execution_count": null,
      "outputs": []
    },
    {
      "cell_type": "markdown",
      "source": [
        "Plotagem definitiva do gráfico"
      ],
      "metadata": {
        "id": "5mMUZAcZYuXH"
      }
    },
    {
      "cell_type": "code",
      "source": [
        "plt.show()"
      ],
      "metadata": {
        "id": "ozte_5XwYxOl"
      },
      "execution_count": null,
      "outputs": []
    },
    {
      "cell_type": "markdown",
      "source": [
        "Função que calcula a energia mecânica do sistema"
      ],
      "metadata": {
        "id": "sKkxcoK4YzQH"
      }
    },
    {
      "cell_type": "code",
      "source": [
        "def em(t):\n",
        "    return ep(t)+ec(t)"
      ],
      "metadata": {
        "id": "8GUURWkPY3si"
      },
      "execution_count": null,
      "outputs": []
    },
    {
      "cell_type": "markdown",
      "source": [
        "Aqui você pode definir a escala do eixo horizontal do gráfico. Dentro dos \n",
        "parentêses o primeiro valor é o início da sua escala e o segundo valor é o fim\n",
        "dela. O terceiro valor é o número de pontos usados para plotar a função."
      ],
      "metadata": {
        "id": "1oukuKbRY6wI"
      }
    },
    {
      "cell_type": "code",
      "source": [
        "t=np.linspace(0,1,200)"
      ],
      "metadata": {
        "id": "sGG6kSi1Y-SO"
      },
      "execution_count": null,
      "outputs": []
    },
    {
      "cell_type": "markdown",
      "source": [
        "Aqui você pode definir os parâmetros de plotagem do gráfico e ajustar estilos \n",
        "de linha diferentes para a função. Dentro dos parentêses o primeiro valor é a \n",
        "definição do eixo x do gráfico e o segundo valor é o eixo y dele. O terceiro e \n",
        "o quarto valor são referentes à cor da linha e sua espessura, respectivamente."
      ],
      "metadata": {
        "id": "TyHNK2TNZAK7"
      }
    },
    {
      "cell_type": "code",
      "source": [
        "plt.plot(t,em(t),color='black',linewidth=1.5)"
      ],
      "metadata": {
        "id": "22Kh3My7ZEz0"
      },
      "execution_count": null,
      "outputs": []
    },
    {
      "cell_type": "markdown",
      "source": [
        "Aqui você pode alterar o nome do eixo horizontal do gráfico"
      ],
      "metadata": {
        "id": "sxA0lc55ZHgN"
      }
    },
    {
      "cell_type": "code",
      "source": [
        "plt.xlabel('t (s)')"
      ],
      "metadata": {
        "id": "v7rw0icpZKVr"
      },
      "execution_count": null,
      "outputs": []
    },
    {
      "cell_type": "markdown",
      "source": [
        "Aqui você pode alterar o nome do eixo vertical do gráfico"
      ],
      "metadata": {
        "id": "iqke8V6IZMvL"
      }
    },
    {
      "cell_type": "code",
      "source": [
        "plt.ylabel('E (J)')"
      ],
      "metadata": {
        "id": "9ZTaML4mZPiv"
      },
      "execution_count": null,
      "outputs": []
    },
    {
      "cell_type": "markdown",
      "source": [
        "Aqui você pode alterar o título do gráfico"
      ],
      "metadata": {
        "id": "RndNLfw7ZRoQ"
      }
    },
    {
      "cell_type": "code",
      "source": [
        "plt.title('Energia Mecânica x Tempo')"
      ],
      "metadata": {
        "id": "7ma__asnZT4b"
      },
      "execution_count": null,
      "outputs": []
    },
    {
      "cell_type": "markdown",
      "source": [
        "Aqui você pode desativar o grid do gráfico digitando False no lugar de True"
      ],
      "metadata": {
        "id": "ujZKmlfTZWCX"
      }
    },
    {
      "cell_type": "code",
      "source": [
        "plt.grid(True)"
      ],
      "metadata": {
        "id": "tQaYSK1TZYiL"
      },
      "execution_count": null,
      "outputs": []
    },
    {
      "cell_type": "markdown",
      "source": [
        "Plotagem definitiva do gráfico"
      ],
      "metadata": {
        "id": "iOKpqLcfZbtY"
      }
    },
    {
      "cell_type": "code",
      "source": [
        "plt.show()"
      ],
      "metadata": {
        "id": "CbASH_GVZePP"
      },
      "execution_count": null,
      "outputs": []
    }
  ]
}
