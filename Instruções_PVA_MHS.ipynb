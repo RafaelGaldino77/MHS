{
  "nbformat": 4,
  "nbformat_minor": 0,
  "metadata": {
    "colab": {
      "provenance": [],
      "collapsed_sections": [],
      "include_colab_link": true
    },
    "kernelspec": {
      "name": "python3",
      "display_name": "Python 3"
    },
    "language_info": {
      "name": "python"
    }
  },
  "cells": [
    {
      "cell_type": "markdown",
      "metadata": {
        "id": "view-in-github",
        "colab_type": "text"
      },
      "source": [
        "<a href=\"https://colab.research.google.com/github/RafaelGaldino77/MHS/blob/RafaelGaldino77-patch-1/Instru%C3%A7%C3%B5es_PVA_MHS.ipynb\" target=\"_parent\"><img src=\"https://colab.research.google.com/assets/colab-badge.svg\" alt=\"Open In Colab\"/></a>"
      ]
    },
    {
      "cell_type": "markdown",
      "source": [
        "Centro Universitário FEI - Física II\n",
        "\n",
        "Criado por Rafael Galdino Dias em 25/10/2021\n",
        "\n",
        "Esse programa tem como principal objetivo auxiliar os alunos em seus estudos de Movimento Harmônico Simples e ajudá-los a entender melhor as equações propostas\n",
        "por esse modelo tão importante. Outro intuito da simulação é que o aluno possa \n",
        "interpretar graficamente as equações de posição, velocidade e aceleração, todas\n",
        "em função do tempo, para as mais diversas situações do MHS.\n",
        "\n",
        "Observação: para simular este programa, copie e cole todas as linhas de código\n",
        "no Google Colab, onde ele foi testado e desenvolvido pelo autor."
      ],
      "metadata": {
        "id": "2XRFgm6-1jrk"
      }
    },
    {
      "cell_type": "code",
      "source": [
        "import numpy as np\n",
        "import matplotlib.pyplot as plt\n",
        "\n",
        "print('       Posição, Velocidade e Aceleração no MHS        ')\n",
        "print('------------------------------------------------------')\n",
        "m=float(input(\"Insira o valor da massa em kg:\"))\n",
        "k=float(input(\"Insira o valor da constante elástica em N/m:\"))\n",
        "xo=float(input(\"Insira a posição inicial em m:\"))\n",
        "vo=float(input(\"Insira a velocidade inicial em m/s:\"))"
      ],
      "metadata": {
        "id": "xY86clIsqyPW"
      },
      "execution_count": null,
      "outputs": []
    },
    {
      "cell_type": "markdown",
      "source": [
        "Cálculo da frequência angular (omega) "
      ],
      "metadata": {
        "id": "wnJwoaOKqs7O"
      }
    },
    {
      "cell_type": "code",
      "source": [
        "w=(k/m)**0.5"
      ],
      "metadata": {
        "id": "6_4avgmNq4Ly"
      },
      "execution_count": null,
      "outputs": []
    },
    {
      "cell_type": "markdown",
      "source": [
        "Cálculo do ângulo de fase do MHS utilizando os valores de posição e velocidade\n",
        "iniciais através da dedução de que a fase inicial pode ser obtida pela equação \n",
        "horária do MHS quando t=0. Para chegar ao resultado podemos pegar a velocidade \n",
        "inicial v0=-w.A.sen(fi) e dividir pela posição inicial x0=A.cos(fi) resultando\n",
        "na equação obtida abaixo."
      ],
      "metadata": {
        "id": "CkdX8ygfq19l"
      }
    },
    {
      "cell_type": "code",
      "source": [
        "fi=np.arctan(-vo/(w*xo))"
      ],
      "metadata": {
        "id": "1XVIcaOpq-mx"
      },
      "execution_count": null,
      "outputs": []
    },
    {
      "cell_type": "markdown",
      "source": [
        "Cálculo da amplitude utilizando os valores de posição e velocidade iniciais com\n",
        "a seguinte dedução: eleve a equação do x0 ao quadrado então divida a equação do\n",
        "v0 por w(omega) e eleve o resultado ao quadrado e por fim some com a quadrado da equação anterior. O resultado é A^2(sen^2(fi)+cos^2(fi))=A^2, fazendo-se as\n",
        "devidas manipulações e substituições é possível chegar na equação abaixo."
      ],
      "metadata": {
        "id": "qZ4S0292rB-V"
      }
    },
    {
      "cell_type": "code",
      "source": [
        "Ao=(xo**2+(vo**2/w**2))**0.5"
      ],
      "metadata": {
        "id": "Up5j9eI5rGu5"
      },
      "execution_count": null,
      "outputs": []
    },
    {
      "cell_type": "markdown",
      "source": [
        "Função que calcula a posição em função do tempo (equação da posição) "
      ],
      "metadata": {
        "id": "fu848s6qFLNn"
      }
    },
    {
      "cell_type": "code",
      "source": [
        "def x(t):\n",
        "   return Ao*np.cos(w*t+fi)"
      ],
      "metadata": {
        "id": "IBxGYGWKFNzT"
      },
      "execution_count": null,
      "outputs": []
    },
    {
      "cell_type": "markdown",
      "source": [
        "Função que calcula a velocidade em função do tempo (equação da velocidade)"
      ],
      "metadata": {
        "id": "-ar-KbiaFQcR"
      }
    },
    {
      "cell_type": "code",
      "source": [
        "def v(t):\n",
        "   return -w*Ao*np.sin(w*t+fi)"
      ],
      "metadata": {
        "id": "Pq7SYyHtFTFT"
      },
      "execution_count": null,
      "outputs": []
    },
    {
      "cell_type": "markdown",
      "source": [
        "Função que calcula a aceleração em função do tempo (equação da aceleração)"
      ],
      "metadata": {
        "id": "wXxvwHrIFVmv"
      }
    },
    {
      "cell_type": "code",
      "source": [
        "def a(t):\n",
        "   return -w**2*Ao*np.cos(w*t+fi)"
      ],
      "metadata": {
        "id": "um2-svH-FhGe"
      },
      "execution_count": null,
      "outputs": []
    },
    {
      "cell_type": "markdown",
      "source": [
        "O conjunto de linhas a seguir é correspondente à plotagem do gráfico da posição em função do tempo. Para alterar os parâmetros siga as instruções.\n",
        "\n",
        "Aqui você pode definir a escala do eixo horizontal do gráfico. Dentro dos \n",
        "parentêses o primeiro valor é o início da sua escala e o segundo valor é o fim\n",
        "dela. O terceiro valor é o número de pontos usados para plotar a função. "
      ],
      "metadata": {
        "id": "YRshJSJDFjDN"
      }
    },
    {
      "cell_type": "code",
      "source": [
        "t=np.linspace(0,10,200) "
      ],
      "metadata": {
        "id": "9Gfu-UtlFtcM"
      },
      "execution_count": null,
      "outputs": []
    },
    {
      "cell_type": "markdown",
      "source": [
        "Aqui você pode alterar a resolução gráfica dos eixos para que fique mais fácil vizualizar os pontos de plotagem. Na primeira linha você define o espaçamento entre cada marcação principal do seu gráfico. Dentro dos parênteses o primeiro valor e o segundo valor é onde essa resolução começa e onde ela termina, não é preciso mudar estes valores pois esta faixa de tempo abrange todas as situações e o terceiro valor é a resolução da escala principal do eixo x do seu gráfico."
      ],
      "metadata": {
        "id": "Jo0OVZ6-F3nR"
      }
    },
    {
      "cell_type": "code",
      "source": [
        "fig = plt.figure()\n",
        "ax = fig.add_subplot(1, 1, 1)\n",
        "major_ticks_x = np.arange(0, 50, 1)"
      ],
      "metadata": {
        "id": "odJA9CzJGGFp"
      },
      "execution_count": null,
      "outputs": []
    },
    {
      "cell_type": "markdown",
      "source": [
        "Na segunda linha é definido o espaçamento entre cada marcação secundária do seu gráfico. Dentro dos parênteses o primeiro e segundo valor seguem a mesma regra e o terceiro valor é a resolução da escala secundária do eixo x do seu gráfico."
      ],
      "metadata": {
        "id": "OrDXxtoVGJL5"
      }
    },
    {
      "cell_type": "code",
      "source": [
        "minor_ticks_x = np.arange(0, 50, 0.5)"
      ],
      "metadata": {
        "id": "iOirWcTEGN1z"
      },
      "execution_count": null,
      "outputs": []
    },
    {
      "cell_type": "markdown",
      "source": [
        "\n",
        "Na terceira linha é definido o espaçamento entre cada marcação principal do seu gráfico. Dentro dos parênteses o primeiro e segundo valor seguem a mesma regra e o terceiro valor é a resolução da escala principal do eixo y do seu gráfico."
      ],
      "metadata": {
        "id": "bW72RoJiGQSu"
      }
    },
    {
      "cell_type": "code",
      "source": [
        "major_ticks_y = np.arange(-50, 50, 0.5)"
      ],
      "metadata": {
        "id": "01MCr14GGThA"
      },
      "execution_count": null,
      "outputs": []
    },
    {
      "cell_type": "markdown",
      "source": [
        "Na quarta linha é definido o espaçamento entre cada marcação secundária do seu gráfico. Dentro dos parênteses o primeiro e segundo valor seguem a mesma regra e o terceiro valor é a resolução da escala secundária do eixo y do seu gráfico."
      ],
      "metadata": {
        "id": "G8b51N-xGWjF"
      }
    },
    {
      "cell_type": "code",
      "source": [
        "minor_ticks_y = np.arange(-50, 50, 0.25)"
      ],
      "metadata": {
        "id": "RC4S8nwuGZOf"
      },
      "execution_count": null,
      "outputs": []
    },
    {
      "cell_type": "markdown",
      "source": [
        "Nesta seção do código é possível definir quais escalas você quer deixar habilitado para visualização no seu gráfico. Caso não queira definir uma resolução específica basta excluir a linha do código."
      ],
      "metadata": {
        "id": "OOPB2zEhGeHv"
      }
    },
    {
      "cell_type": "code",
      "source": [
        "ax.set_xticks(major_ticks_x)\n",
        "ax.set_yticks(major_ticks_y)\n",
        "ax.set_xticks(minor_ticks_x, minor=True)\n",
        "ax.set_yticks(minor_ticks_y, minor=True)\n",
        "ax.grid(which='both')"
      ],
      "metadata": {
        "id": "ZEqZFERMGyYq"
      },
      "execution_count": null,
      "outputs": []
    },
    {
      "cell_type": "markdown",
      "source": [
        "qui você pode definir os parâmetros de plotagem do gráfico e ajustar estilos de linha diferentes para a função. Dentro dos parentêses o primeiro valor é a definição do eixo x do gráfico e o segundo valor é o eixo y dele. O terceiro e o quarto valor são referentes à cor da linha e sua espessura, respectivamente."
      ],
      "metadata": {
        "id": "fqptk0rqHiyl"
      }
    },
    {
      "cell_type": "code",
      "source": [
        "plt.plot(t,x(t),color='red',linewidth=1.5)"
      ],
      "metadata": {
        "id": "OpXyuY6cHmHS"
      },
      "execution_count": null,
      "outputs": []
    },
    {
      "cell_type": "markdown",
      "source": [
        "Aqui você pode alterar o nome do eixo horizontal do gráfico\n"
      ],
      "metadata": {
        "id": "hC-YqMnZHpWZ"
      }
    },
    {
      "cell_type": "code",
      "source": [
        "plt.xlabel('t (s)')"
      ],
      "metadata": {
        "id": "U3u5EpzMHs9y"
      },
      "execution_count": null,
      "outputs": []
    },
    {
      "cell_type": "markdown",
      "source": [
        "Aqui você pode alterar o nome do eixo vertical do gráfico"
      ],
      "metadata": {
        "id": "8bEQRDEYHvPS"
      }
    },
    {
      "cell_type": "code",
      "source": [
        "plt.ylabel('x (m)')"
      ],
      "metadata": {
        "id": "zeE20ckfHxW8"
      },
      "execution_count": null,
      "outputs": []
    },
    {
      "cell_type": "markdown",
      "source": [
        "Aqui você pode alterar o título do gráfico\n"
      ],
      "metadata": {
        "id": "rw39vyZ-Hz_s"
      }
    },
    {
      "cell_type": "code",
      "source": [
        "plt.title('Gráfico Posição x Tempo')"
      ],
      "metadata": {
        "id": "G7Ydzjc7H2NE"
      },
      "execution_count": null,
      "outputs": []
    },
    {
      "cell_type": "markdown",
      "source": [
        "Aqui você pode desativar o grid do gráfico digitando False no lugar de True"
      ],
      "metadata": {
        "id": "ejFU8-3sH4-W"
      }
    },
    {
      "cell_type": "code",
      "source": [
        "plt.grid(True)"
      ],
      "metadata": {
        "id": "3vKOai-oH7F8"
      },
      "execution_count": null,
      "outputs": []
    },
    {
      "cell_type": "markdown",
      "source": [
        "Plotagem definitiva do gráfico"
      ],
      "metadata": {
        "id": "A-q_XKRAH94Z"
      }
    },
    {
      "cell_type": "code",
      "source": [
        "plt.show() "
      ],
      "metadata": {
        "id": "wTUDUq1PIAzX"
      },
      "execution_count": null,
      "outputs": []
    },
    {
      "cell_type": "markdown",
      "source": [
        "\n",
        "O conjunto de linhas a seguir é correspondente à plotagem do gráfico da \n",
        "velocidade em função do tempo. Para alterar os parâmetros siga as instruções:\n",
        "\n",
        "Aqui você pode definir a escala do eixo horizontal do gráfico. Dentro dos \n",
        "parentêses o primeiro valor é o início da sua escala e o segundo valor é o fim\n",
        "dela. O terceiro valor é o número de pontos usados para plotar a função."
      ],
      "metadata": {
        "id": "u9wvnTDWIE0_"
      }
    },
    {
      "cell_type": "code",
      "source": [
        "t=np.linspace(0,10,200) "
      ],
      "metadata": {
        "id": "d1hyjm1qIOH1"
      },
      "execution_count": null,
      "outputs": []
    },
    {
      "cell_type": "markdown",
      "source": [
        "Aqui você pode alterar a resolução gráfica dos eixos para que fique mais fácil vizualizar os pontos de plotagem. Na primeira linha você define o espaçamento entre cada marcação principal do seu gráfico. Dentro dos parênteses o primeiro valor e o segundo valor é onde essa resolução começa e onde ela termina, não é preciso mudar estes valores pois esta faixa de tempo abrange todas as situações e o terceiro valor é a resolução da escala principal do eixo x do seu gráfico."
      ],
      "metadata": {
        "id": "G8tap6YjImvs"
      }
    },
    {
      "cell_type": "code",
      "source": [
        "fig = plt.figure()\n",
        "ax = fig.add_subplot(1, 1, 1)\n",
        "major_ticks_x = np.arange(0, 50, 1)"
      ],
      "metadata": {
        "id": "Hu5mbJauImvt"
      },
      "execution_count": null,
      "outputs": []
    },
    {
      "cell_type": "markdown",
      "source": [
        "Na segunda linha é definido o espaçamento entre cada marcação secundária do seu gráfico. Dentro dos parênteses o primeiro e segundo valor seguem a mesma regra e o terceiro valor é a resolução da escala secundária do eixo x do seu gráfico."
      ],
      "metadata": {
        "id": "Hg1r6zukImvt"
      }
    },
    {
      "cell_type": "code",
      "source": [
        "minor_ticks_x = np.arange(0, 50, 0.5)"
      ],
      "metadata": {
        "id": "SQODb-kWImvt"
      },
      "execution_count": null,
      "outputs": []
    },
    {
      "cell_type": "markdown",
      "source": [
        "\n",
        "Na terceira linha é definido o espaçamento entre cada marcação principal do seu gráfico. Dentro dos parênteses o primeiro e segundo valor seguem a mesma regra e o terceiro valor é a resolução da escala principal do eixo y do seu gráfico."
      ],
      "metadata": {
        "id": "6UFNiRK1Imvt"
      }
    },
    {
      "cell_type": "code",
      "source": [
        "major_ticks_y = np.arange(-50, 50, 1)"
      ],
      "metadata": {
        "id": "zQzqeMbpImvt"
      },
      "execution_count": null,
      "outputs": []
    },
    {
      "cell_type": "markdown",
      "source": [
        "Na quarta linha é definido o espaçamento entre cada marcação secundária do seu gráfico. Dentro dos parênteses o primeiro e segundo valor seguem a mesma regra e o terceiro valor é a resolução da escala secundária do eixo y do seu gráfico."
      ],
      "metadata": {
        "id": "c3090tnCImvt"
      }
    },
    {
      "cell_type": "code",
      "source": [
        "minor_ticks_y = np.arange(-50, 50, 0.5)"
      ],
      "metadata": {
        "id": "QPbvBfUzImvt"
      },
      "execution_count": null,
      "outputs": []
    },
    {
      "cell_type": "markdown",
      "source": [
        "Nesta seção do código é possível definir quais escalas você quer deixar habilitado para visualização no seu gráfico. Caso não queira definir uma resolução específica basta excluir a linha do código."
      ],
      "metadata": {
        "id": "DuoyK9BUImvu"
      }
    },
    {
      "cell_type": "code",
      "source": [
        "ax.set_xticks(major_ticks_x)\n",
        "ax.set_yticks(major_ticks_y)\n",
        "ax.set_xticks(minor_ticks_x, minor=True)\n",
        "ax.set_yticks(minor_ticks_y, minor=True)\n",
        "ax.grid(which='both')"
      ],
      "metadata": {
        "id": "oETR5hufImvu"
      },
      "execution_count": null,
      "outputs": []
    },
    {
      "cell_type": "markdown",
      "source": [
        "qui você pode definir os parâmetros de plotagem do gráfico e ajustar estilos de linha diferentes para a função. Dentro dos parentêses o primeiro valor é a definição do eixo x do gráfico e o segundo valor é o eixo y dele. O terceiro e o quarto valor são referentes à cor da linha e sua espessura, respectivamente."
      ],
      "metadata": {
        "id": "g8IJZlEPImvu"
      }
    },
    {
      "cell_type": "code",
      "source": [
        "plt.plot(t,v(t),color='red',linewidth=1.5)"
      ],
      "metadata": {
        "id": "HvJeMF0TImvu"
      },
      "execution_count": null,
      "outputs": []
    },
    {
      "cell_type": "markdown",
      "source": [
        "Aqui você pode alterar o nome do eixo horizontal do gráfico\n"
      ],
      "metadata": {
        "id": "Z3Pa2E1cImvu"
      }
    },
    {
      "cell_type": "code",
      "source": [
        "plt.xlabel('t (s)')"
      ],
      "metadata": {
        "id": "r6N8bGa2Imvu"
      },
      "execution_count": null,
      "outputs": []
    },
    {
      "cell_type": "markdown",
      "source": [
        "Aqui você pode alterar o nome do eixo vertical do gráfico"
      ],
      "metadata": {
        "id": "e7IIU-oAImvu"
      }
    },
    {
      "cell_type": "code",
      "source": [
        "plt.ylabel('v (m/s)')"
      ],
      "metadata": {
        "id": "1Im3RTWFImvu"
      },
      "execution_count": null,
      "outputs": []
    },
    {
      "cell_type": "markdown",
      "source": [
        "Aqui você pode alterar o título do gráfico\n"
      ],
      "metadata": {
        "id": "Rvg9fe48Imvv"
      }
    },
    {
      "cell_type": "code",
      "source": [
        "plt.title('Gráfico Velocidade x Tempo')"
      ],
      "metadata": {
        "id": "mdaZBhZ8Imvv"
      },
      "execution_count": null,
      "outputs": []
    },
    {
      "cell_type": "markdown",
      "source": [
        "Aqui você pode desativar o grid do gráfico digitando False no lugar de True"
      ],
      "metadata": {
        "id": "nsvLhDK7Imvv"
      }
    },
    {
      "cell_type": "code",
      "source": [
        "plt.grid(True)"
      ],
      "metadata": {
        "id": "6jV6qDQjImvv"
      },
      "execution_count": null,
      "outputs": []
    },
    {
      "cell_type": "markdown",
      "source": [
        "Plotagem definitiva do gráfico"
      ],
      "metadata": {
        "id": "A_a0Yo0CImvv"
      }
    },
    {
      "cell_type": "code",
      "source": [
        "plt.show() "
      ],
      "metadata": {
        "id": "eUVpGxruImvv"
      },
      "execution_count": null,
      "outputs": []
    },
    {
      "cell_type": "markdown",
      "source": [
        "O conjunto de linhas a seguir é correspondente à plotagem do gráfico da \n",
        "aceleração em função do tempo. Para alterar os parâmetros siga as instruções:\n",
        "\n",
        "Aqui você pode definir a escala do eixo horizontal do gráfico. Dentro dos \n",
        "parentêses o primeiro valor é o início da sua escala e o segundo valor é o fim\n",
        "dela. O terceiro valor é o número de pontos usados para plotar a função."
      ],
      "metadata": {
        "id": "CoZY4pe1I5Xx"
      }
    },
    {
      "cell_type": "code",
      "source": [
        "t=np.linspace(0,10,200) "
      ],
      "metadata": {
        "id": "QUGiPQBHJKpu"
      },
      "execution_count": null,
      "outputs": []
    },
    {
      "cell_type": "markdown",
      "source": [
        "Aqui você pode alterar a resolução gráfica dos eixos para que fique mais fácil vizualizar os pontos de plotagem. Na primeira linha você define o espaçamento entre cada marcação principal do seu gráfico. Dentro dos parênteses o primeiro valor e o segundo valor é onde essa resolução começa e onde ela termina, não é preciso mudar estes valores pois esta faixa de tempo abrange todas as situações e o terceiro valor é a resolução da escala principal do eixo x do seu gráfico."
      ],
      "metadata": {
        "id": "LpKACHLFJKp0"
      }
    },
    {
      "cell_type": "code",
      "source": [
        "fig = plt.figure()\n",
        "ax = fig.add_subplot(1, 1, 1)\n",
        "major_ticks_x = np.arange(0, 50, 1)"
      ],
      "metadata": {
        "id": "po4OF6bYJKp0"
      },
      "execution_count": null,
      "outputs": []
    },
    {
      "cell_type": "markdown",
      "source": [
        "Na segunda linha é definido o espaçamento entre cada marcação secundária do seu gráfico. Dentro dos parênteses o primeiro e segundo valor seguem a mesma regra e o terceiro valor é a resolução da escala secundária do eixo x do seu gráfico."
      ],
      "metadata": {
        "id": "vwmP9zIfJKp0"
      }
    },
    {
      "cell_type": "code",
      "source": [
        "minor_ticks_x = np.arange(0, 50, 0.5)"
      ],
      "metadata": {
        "id": "s8r9fkFqJKp0"
      },
      "execution_count": null,
      "outputs": []
    },
    {
      "cell_type": "markdown",
      "source": [
        "\n",
        "Na terceira linha é definido o espaçamento entre cada marcação principal do seu gráfico. Dentro dos parênteses o primeiro e segundo valor seguem a mesma regra e o terceiro valor é a resolução da escala principal do eixo y do seu gráfico."
      ],
      "metadata": {
        "id": "4ECiMphmJKp0"
      }
    },
    {
      "cell_type": "code",
      "source": [
        "major_ticks_y = np.arange(-50, 50, 2)"
      ],
      "metadata": {
        "id": "CNhPwl2uJKp1"
      },
      "execution_count": null,
      "outputs": []
    },
    {
      "cell_type": "markdown",
      "source": [
        "Na quarta linha é definido o espaçamento entre cada marcação secundária do seu gráfico. Dentro dos parênteses o primeiro e segundo valor seguem a mesma regra e o terceiro valor é a resolução da escala secundária do eixo y do seu gráfico."
      ],
      "metadata": {
        "id": "jaZZduPNJKp1"
      }
    },
    {
      "cell_type": "code",
      "source": [
        "minor_ticks_y = np.arange(-50, 50, 1)"
      ],
      "metadata": {
        "id": "Hpj2Pdl9JKp1"
      },
      "execution_count": null,
      "outputs": []
    },
    {
      "cell_type": "markdown",
      "source": [
        "Nesta seção do código é possível definir quais escalas você quer deixar habilitado para visualização no seu gráfico. Caso não queira definir uma resolução específica basta excluir a linha do código."
      ],
      "metadata": {
        "id": "yyFQFW7aJKp1"
      }
    },
    {
      "cell_type": "code",
      "source": [
        "ax.set_xticks(major_ticks_x)\n",
        "ax.set_yticks(major_ticks_y)\n",
        "ax.set_xticks(minor_ticks_x, minor=True)\n",
        "ax.set_yticks(minor_ticks_y, minor=True)\n",
        "ax.grid(which='both')"
      ],
      "metadata": {
        "id": "jLj7Dc7zJKp1"
      },
      "execution_count": null,
      "outputs": []
    },
    {
      "cell_type": "markdown",
      "source": [
        "qui você pode definir os parâmetros de plotagem do gráfico e ajustar estilos de linha diferentes para a função. Dentro dos parentêses o primeiro valor é a definição do eixo x do gráfico e o segundo valor é o eixo y dele. O terceiro e o quarto valor são referentes à cor da linha e sua espessura, respectivamente."
      ],
      "metadata": {
        "id": "k5JqJ_iQJKp1"
      }
    },
    {
      "cell_type": "code",
      "source": [
        "plt.plot(t,a(t),color='red',linewidth=1.5)"
      ],
      "metadata": {
        "id": "YWZkYT-oJKp1"
      },
      "execution_count": null,
      "outputs": []
    },
    {
      "cell_type": "markdown",
      "source": [
        "Aqui você pode alterar o nome do eixo horizontal do gráfico\n"
      ],
      "metadata": {
        "id": "2iS9L-wsJKp1"
      }
    },
    {
      "cell_type": "code",
      "source": [
        "plt.xlabel('t (s)')"
      ],
      "metadata": {
        "id": "_Q_aVFk2JKp1"
      },
      "execution_count": null,
      "outputs": []
    },
    {
      "cell_type": "markdown",
      "source": [
        "Aqui você pode alterar o nome do eixo vertical do gráfico"
      ],
      "metadata": {
        "id": "N4PiiHSvJKp1"
      }
    },
    {
      "cell_type": "code",
      "source": [
        "plt.ylabel('a (m/s2)')"
      ],
      "metadata": {
        "id": "yO-9H0brJKp2"
      },
      "execution_count": null,
      "outputs": []
    },
    {
      "cell_type": "markdown",
      "source": [
        "Aqui você pode alterar o título do gráfico\n"
      ],
      "metadata": {
        "id": "dozCLj_TJKp2"
      }
    },
    {
      "cell_type": "code",
      "source": [
        "plt.title('Gráfico Aceleração x Tempo')"
      ],
      "metadata": {
        "id": "PYJjRjBcJKp2"
      },
      "execution_count": null,
      "outputs": []
    },
    {
      "cell_type": "markdown",
      "source": [
        "Aqui você pode desativar o grid do gráfico digitando False no lugar de True"
      ],
      "metadata": {
        "id": "Z6m1zkZoJKp2"
      }
    },
    {
      "cell_type": "code",
      "source": [
        "plt.grid(True)"
      ],
      "metadata": {
        "id": "2H-4nn_OJKp2"
      },
      "execution_count": null,
      "outputs": []
    },
    {
      "cell_type": "markdown",
      "source": [
        "Plotagem definitiva do gráfico"
      ],
      "metadata": {
        "id": "0LbsUZ4AJKp2"
      }
    },
    {
      "cell_type": "code",
      "source": [
        "plt.show() "
      ],
      "metadata": {
        "id": "PZS7ONakJKp2"
      },
      "execution_count": null,
      "outputs": []
    }
  ]
}